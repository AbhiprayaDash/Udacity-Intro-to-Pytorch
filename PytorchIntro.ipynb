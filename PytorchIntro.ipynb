{
  "nbformat": 4,
  "nbformat_minor": 0,
  "metadata": {
    "colab": {
      "name": "Untitled16.ipynb",
      "provenance": [],
      "collapsed_sections": []
    },
    "kernelspec": {
      "name": "python3",
      "display_name": "Python 3"
    }
  },
  "cells": [
    {
      "cell_type": "code",
      "metadata": {
        "id": "Abh8IRtoD_7P",
        "colab_type": "code",
        "colab": {}
      },
      "source": [
        "import torch"
      ],
      "execution_count": 0,
      "outputs": []
    },
    {
      "cell_type": "code",
      "metadata": {
        "id": "iqixJZZREDs5",
        "colab_type": "code",
        "colab": {}
      },
      "source": [
        "def activation(x):\n",
        "  return 1/(1+torch.exp(-x))\n",
        " "
      ],
      "execution_count": 0,
      "outputs": []
    },
    {
      "cell_type": "code",
      "metadata": {
        "id": "SCw24F6AEPlN",
        "colab_type": "code",
        "colab": {}
      },
      "source": [
        "torch.manual_seed(7)\n",
        "features=torch.randn(1,5)\n",
        "weights=torch.randn_like(features)\n",
        "bias=torch.randn(1,1)\n"
      ],
      "execution_count": 0,
      "outputs": []
    },
    {
      "cell_type": "code",
      "metadata": {
        "id": "MA6gR3CiFb7h",
        "colab_type": "code",
        "colab": {
          "base_uri": "https://localhost:8080/",
          "height": 34
        },
        "outputId": "f5375800-6c19-470a-c704-4c79ddc4b281"
      },
      "source": [
        "output=torch.mm(features,weights.reshape(5,1))##we have changed the shape of the torch for doing matmul\n",
        "result=activation(output+bias)\n",
        "print(result)"
      ],
      "execution_count": 4,
      "outputs": [
        {
          "output_type": "stream",
          "text": [
            "tensor([[0.1595]])\n"
          ],
          "name": "stdout"
        }
      ]
    },
    {
      "cell_type": "code",
      "metadata": {
        "id": "IME2hb_QLp7F",
        "colab_type": "code",
        "colab": {}
      },
      "source": [
        "##Multilayer Perceptron\n",
        "torch.manual_seed(7)\n",
        "\n",
        "features = torch.randn(1,3)\n",
        "\n",
        "n_input =features.shape[1]   #we will be doing matmul so we want to create weight matrix row size == output_dim\n",
        "n_hidden=2\n",
        "n_output=1\n",
        "w1=torch.randn(n_input,n_hidden)\n",
        "#w2 is the weight of hidden layer neurons\n",
        "w2=torch.randn(n_hidden,n_output)\n",
        "\n",
        "bias1=torch.randn(1,n_hidden)\n",
        "bias2=torch.randn(1,n_output)\n"
      ],
      "execution_count": 0,
      "outputs": []
    },
    {
      "cell_type": "code",
      "metadata": {
        "id": "VTRWVLQWEnG7",
        "colab_type": "code",
        "colab": {
          "base_uri": "https://localhost:8080/",
          "height": 34
        },
        "outputId": "51315208-bacc-4363-f7f5-0c08d06b00c0"
      },
      "source": [
        "output=torch.mm(features,w1)\n",
        "result1=activation(output+bias1)\n",
        "output1=torch.mm(result1,w2)\n",
        "resultfinal=activation(output1+bias2)\n",
        "print(resultfinal)\n"
      ],
      "execution_count": 8,
      "outputs": [
        {
          "output_type": "stream",
          "text": [
            "tensor([[0.3171]])\n"
          ],
          "name": "stdout"
        }
      ]
    },
    {
      "cell_type": "markdown",
      "metadata": {
        "colab_type": "text",
        "id": "pPVq7iyrKbRR"
      },
      "source": [
        "Numpy to Torch and back\n",
        "Python has a great feature converting between Numpy arrays and Torch tensors.To create a tensor from Numpy array,use torch.from_numpy() .To convert a tensor to a Numpy Array,use the .numpy() method\n"
      ]
    },
    {
      "cell_type": "code",
      "metadata": {
        "id": "sSACtzc7Kl_U",
        "colab_type": "code",
        "colab": {
          "base_uri": "https://localhost:8080/",
          "height": 84
        },
        "outputId": "962daf97-6bee-43d1-aa1a-43b279cc43db"
      },
      "source": [
        "import numpy as np\n",
        "a=np.random.rand(4,3)\n",
        "a"
      ],
      "execution_count": 9,
      "outputs": [
        {
          "output_type": "execute_result",
          "data": {
            "text/plain": [
              "array([[0.02878423, 0.41726181, 0.38580125],\n",
              "       [0.37251128, 0.44390579, 0.91700297],\n",
              "       [0.17162671, 0.20010991, 0.12710068],\n",
              "       [0.94111615, 0.9098365 , 0.30020041]])"
            ]
          },
          "metadata": {
            "tags": []
          },
          "execution_count": 9
        }
      ]
    },
    {
      "cell_type": "code",
      "metadata": {
        "id": "mh81KdBEKvzV",
        "colab_type": "code",
        "colab": {
          "base_uri": "https://localhost:8080/",
          "height": 84
        },
        "outputId": "2eb85720-79a6-4369-af81-6233a9e3bbc5"
      },
      "source": [
        "b=torch.from_numpy(a)\n",
        "b"
      ],
      "execution_count": 11,
      "outputs": [
        {
          "output_type": "execute_result",
          "data": {
            "text/plain": [
              "tensor([[0.0288, 0.4173, 0.3858],\n",
              "        [0.3725, 0.4439, 0.9170],\n",
              "        [0.1716, 0.2001, 0.1271],\n",
              "        [0.9411, 0.9098, 0.3002]], dtype=torch.float64)"
            ]
          },
          "metadata": {
            "tags": []
          },
          "execution_count": 11
        }
      ]
    },
    {
      "cell_type": "code",
      "metadata": {
        "id": "Ak95fUqHLr-P",
        "colab_type": "code",
        "colab": {}
      },
      "source": [
        "b.numpy()"
      ],
      "execution_count": 0,
      "outputs": []
    },
    {
      "cell_type": "markdown",
      "metadata": {
        "id": "Sry8XjytK38D",
        "colab_type": "text"
      },
      "source": [
        "The Memory is shared between the Numpy array and Torch Tensor,so if you change the values in-place of one object,the other will change as well"
      ]
    },
    {
      "cell_type": "code",
      "metadata": {
        "id": "K7ueNEeNK3Ac",
        "colab_type": "code",
        "colab": {}
      },
      "source": [
        "b.mul_(2)\n",
        "a"
      ],
      "execution_count": 0,
      "outputs": []
    }
  ]
}